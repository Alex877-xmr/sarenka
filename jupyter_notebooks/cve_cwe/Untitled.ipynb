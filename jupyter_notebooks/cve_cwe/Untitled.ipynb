{
 "cells": [
  {
   "cell_type": "markdown",
   "id": "5ecc03d5-6360-403a-bbb6-22341f400dff",
   "metadata": {},
   "source": [
    "# CWE"
   ]
  },
  {
   "cell_type": "code",
   "execution_count": null,
   "id": "0ed6396c-fc19-4ca1-959e-797b0b2e6db1",
   "metadata": {},
   "outputs": [],
   "source": [
    "conda install xmltodict"
   ]
  },
  {
   "cell_type": "code",
   "execution_count": 1,
   "id": "0b5c9b2a-06df-4286-a37d-fdc528c19950",
   "metadata": {},
   "outputs": [],
   "source": [
    "import json\n",
    "import os\n",
    "import requests\n",
    "import xmltodict\n",
    "import zipfile"
   ]
  },
  {
   "cell_type": "markdown",
   "id": "340faf27-a851-4870-94ac-9826aed5cbf5",
   "metadata": {},
   "source": [
    "## 1. Pobieranie danych"
   ]
  },
  {
   "cell_type": "code",
   "execution_count": 13,
   "id": "7eabc2dd-967d-443e-ac41-6a83cbf1b6ac",
   "metadata": {},
   "outputs": [],
   "source": [
    "CWE_FILE_URL = \"https://cwe.mitre.org/data/xml/cwec_latest.xml.zip\"\n",
    "CWE_OUTPUT_DIR = \"cwe_output\""
   ]
  },
  {
   "cell_type": "code",
   "execution_count": 14,
   "id": "f41313a0-0e6b-455d-96c9-90227544104a",
   "metadata": {},
   "outputs": [
    {
     "data": {
      "text/plain": [
       "'cwec_latest.zip'"
      ]
     },
     "execution_count": 14,
     "metadata": {},
     "output_type": "execute_result"
    }
   ],
   "source": [
    "output_filename = f'{CWE_FILE_URL.split(\"/\")[-1].split(\".\")[0]}.zip'\n",
    "output_filename"
   ]
  },
  {
   "cell_type": "code",
   "execution_count": 20,
   "id": "8269d534-a2fc-496c-92c3-9c7d7d52c849",
   "metadata": {},
   "outputs": [
    {
     "name": "stdout",
     "output_type": "stream",
     "text": [
      "files\\cwe_output\\cwec_latest.zip\n",
      "files\\cwe_output\n"
     ]
    }
   ],
   "source": [
    "output_filepath = os.path.join('files', CWE_OUTPUT_DIR, output_filename)\n",
    "print(output_filepath)\n",
    "\n",
    "output_dirpath =  os.path.join('files', CWE_OUTPUT_DIR)\n",
    "print(output_dirpath)"
   ]
  },
  {
   "cell_type": "markdown",
   "id": "dfe9ed17-738a-4017-8e8f-67c6d3e52550",
   "metadata": {},
   "source": [
    "### 1.1 pobieranie i zapisywanie zipa"
   ]
  },
  {
   "cell_type": "code",
   "execution_count": 21,
   "id": "525097d1-40f3-4732-88df-22a072766748",
   "metadata": {},
   "outputs": [
    {
     "name": "stdout",
     "output_type": "stream",
     "text": [
      "files\\cwe_output\\cwec_latest.zip\n"
     ]
    }
   ],
   "source": [
    "data = requests.get(CWE_FILE_URL)\n",
    "with open(output_filepath, \"wb\") as f:\n",
    "    f.write(data.content)\n",
    "    \n",
    "print(output_filepath)"
   ]
  },
  {
   "cell_type": "markdown",
   "id": "86a8d006-c46f-4e8d-9532-1b0dcd1c7fff",
   "metadata": {},
   "source": [
    "### 1.2 rozpakowywanie zipa"
   ]
  },
  {
   "cell_type": "code",
   "execution_count": 23,
   "id": "226cfd4f-d47e-45f9-888f-8961d6b3c42b",
   "metadata": {},
   "outputs": [
    {
     "name": "stdout",
     "output_type": "stream",
     "text": [
      "files\\cwe_output\\cwec_v4.9.xml\n"
     ]
    }
   ],
   "source": [
    "with zipfile.ZipFile(output_filepath, \"r\") as zip_ref:\n",
    "    extracted_file_names = zip_ref.namelist()\n",
    "    zip_ref.extractall(output_dirpath)\n",
    "\n",
    "# tylko jedne plik w zipie\n",
    "extracted_file = extracted_file_names[0]\n",
    "xml_filepath = os.path.join(output_dirpath, extracted_file)\n",
    "print(xml_filepath)"
   ]
  },
  {
   "cell_type": "markdown",
   "id": "953c4d81-ecf2-4c3a-a366-fcea39ce742b",
   "metadata": {},
   "source": [
    "### 1.3 zamiana xml na jsona"
   ]
  },
  {
   "cell_type": "code",
   "execution_count": 25,
   "id": "7c8b0082-0114-40c0-9bc9-188d189241b7",
   "metadata": {},
   "outputs": [],
   "source": [
    "xml_data = open(xml_filepath, \"r\", encoding=\"utf-8\").read()\n",
    "parsed_data = xmltodict.parse(xml_data)\n",
    "xml_dict =  dict(parsed_data)"
   ]
  },
  {
   "cell_type": "markdown",
   "id": "f6ba42de-c0dc-41e7-89bd-a15f8a92cf15",
   "metadata": {},
   "source": [
    "### 1.4 zapisywanie jsona"
   ]
  },
  {
   "cell_type": "code",
   "execution_count": 29,
   "id": "0827967d-1316-4c08-8dd7-c4ebc733cc15",
   "metadata": {},
   "outputs": [],
   "source": [
    "xml_dict_filename = 'cwe.json'\n",
    "xml_dict_filepath = os.path.join(output_dirpath, xml_dict_filename)\n",
    "\n",
    "with open(xml_dict_filepath, \"w\", encoding=\"utf-8\") as f:\n",
    "    json.dump(xml_dict, f, indent=4)"
   ]
  },
  {
   "cell_type": "markdown",
   "id": "8f3b76f7-5a2e-4e17-877e-e70006deca5b",
   "metadata": {},
   "source": [
    "### 1.5 Usuwanie zipa"
   ]
  },
  {
   "cell_type": "code",
   "execution_count": 30,
   "id": "a301edf3-7f5b-4906-a9e9-8e892d30948b",
   "metadata": {},
   "outputs": [
    {
     "ename": "FileNotFoundError",
     "evalue": "[WinError 2] The system cannot find the file specified: 'files\\\\cwe_output\\\\cwec_latest.zip'",
     "output_type": "error",
     "traceback": [
      "\u001b[1;31m---------------------------------------------------------------------------\u001b[0m",
      "\u001b[1;31mFileNotFoundError\u001b[0m                         Traceback (most recent call last)",
      "Input \u001b[1;32mIn [30]\u001b[0m, in \u001b[0;36m<cell line: 2>\u001b[1;34m()\u001b[0m\n\u001b[0;32m      1\u001b[0m zip_filepath \u001b[38;5;241m=\u001b[39m os\u001b[38;5;241m.\u001b[39mpath\u001b[38;5;241m.\u001b[39mjoin(output_dirpath, output_filename)\n\u001b[1;32m----> 2\u001b[0m \u001b[43mos\u001b[49m\u001b[38;5;241;43m.\u001b[39;49m\u001b[43mremove\u001b[49m\u001b[43m(\u001b[49m\u001b[43mzip_filepath\u001b[49m\u001b[43m)\u001b[49m\n",
      "\u001b[1;31mFileNotFoundError\u001b[0m: [WinError 2] The system cannot find the file specified: 'files\\\\cwe_output\\\\cwec_latest.zip'"
     ]
    }
   ],
   "source": [
    "zip_filepath = os.path.join(output_dirpath, output_filename)\n",
    "os.remove(zip_filepath)"
   ]
  },
  {
   "cell_type": "markdown",
   "id": "29d4f7e9-6060-4a8c-890f-b24b39f9b4a7",
   "metadata": {},
   "source": [
    "### 1.6 Usuwanie pliku xml"
   ]
  },
  {
   "cell_type": "code",
   "execution_count": null,
   "id": "89d47994-add7-4b3e-b60e-6ecba69badf8",
   "metadata": {},
   "outputs": [],
   "source": [
    "os.remove(xml_filepath)"
   ]
  },
  {
   "cell_type": "code",
   "execution_count": null,
   "id": "9b35a6fd-587d-4da1-ab9b-0d71fd046779",
   "metadata": {},
   "outputs": [],
   "source": []
  }
 ],
 "metadata": {
  "kernelspec": {
   "display_name": "Python 3 (ipykernel)",
   "language": "python",
   "name": "python3"
  },
  "language_info": {
   "codemirror_mode": {
    "name": "ipython",
    "version": 3
   },
   "file_extension": ".py",
   "mimetype": "text/x-python",
   "name": "python",
   "nbconvert_exporter": "python",
   "pygments_lexer": "ipython3",
   "version": "3.10.6"
  }
 },
 "nbformat": 4,
 "nbformat_minor": 5
}
