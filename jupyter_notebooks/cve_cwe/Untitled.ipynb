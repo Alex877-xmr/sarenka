{
 "cells": [
  {
   "cell_type": "markdown",
   "id": "5ecc03d5-6360-403a-bbb6-22341f400dff",
   "metadata": {},
   "source": [
    "# CWE"
   ]
  },
  {
   "cell_type": "code",
   "execution_count": null,
   "id": "0ed6396c-fc19-4ca1-959e-797b0b2e6db1",
   "metadata": {},
   "outputs": [],
   "source": [
    "conda install xmltodict"
   ]
  },
  {
   "cell_type": "code",
   "execution_count": 1,
   "id": "0b5c9b2a-06df-4286-a37d-fdc528c19950",
   "metadata": {},
   "outputs": [],
   "source": [
    "import json\n",
    "import os\n",
    "import requests\n",
    "import xmltodict\n",
    "import zipfile"
   ]
  },
  {
   "cell_type": "markdown",
   "id": "340faf27-a851-4870-94ac-9826aed5cbf5",
   "metadata": {},
   "source": [
    "## 1. Pobieranie danych"
   ]
  },
  {
   "cell_type": "code",
   "execution_count": 2,
   "id": "7eabc2dd-967d-443e-ac41-6a83cbf1b6ac",
   "metadata": {},
   "outputs": [],
   "source": [
    "CWE_FILE_URL = \"https://cwe.mitre.org/data/xml/cwec_latest.xml.zip\"\n",
    "CWE_OUTPUT_DIR = \"cwe_output\"\n",
    "FILE_DIR_NAME = \"files\"\n",
    "\n",
    "CWE_OUTPUT_DIRPATH = os.path.join(FILE_DIR_NAME, CWE_OUTPUT_DIR)\n",
    "\n",
    "# stałe dotyczące zipa\n",
    "cwe_zip_output_filename = f'{CWE_FILE_URL.split(\"/\")[-1].split(\".\")[0]}.zip'\n",
    "CWE_ZIP_FILEPATH = os.path.join(FILE_DIR_NAME, CWE_OUTPUT_DIR, cwe_zip_output_filename)\n",
    "\n",
    "# stałe dotyczące xml\n",
    "CWE_DICT_RAW_FILENAME = 'cwe_raw.json'\n",
    "CWE_DICT_RAW_FILEPATH = os.path.join(CWE_OUTPUT_DIRPATH, CWE_DICT_RAW_FILENAME)"
   ]
  },
  {
   "cell_type": "markdown",
   "id": "dfe9ed17-738a-4017-8e8f-67c6d3e52550",
   "metadata": {},
   "source": [
    "### 1.1 pobieranie i zapisywanie zipa"
   ]
  },
  {
   "cell_type": "code",
   "execution_count": 3,
   "id": "525097d1-40f3-4732-88df-22a072766748",
   "metadata": {},
   "outputs": [
    {
     "name": "stdout",
     "output_type": "stream",
     "text": [
      "files\\cwe_output\\cwec_latest.zip\n"
     ]
    }
   ],
   "source": [
    "data = requests.get(CWE_FILE_URL)\n",
    "with open(CWE_ZIP_FILEPATH, \"wb\") as f:\n",
    "    f.write(data.content)\n",
    "    \n",
    "print(CWE_ZIP_FILEPATH)"
   ]
  },
  {
   "cell_type": "markdown",
   "id": "86a8d006-c46f-4e8d-9532-1b0dcd1c7fff",
   "metadata": {},
   "source": [
    "### 1.2 rozpakowywanie zipa"
   ]
  },
  {
   "cell_type": "code",
   "execution_count": 4,
   "id": "226cfd4f-d47e-45f9-888f-8961d6b3c42b",
   "metadata": {},
   "outputs": [
    {
     "name": "stdout",
     "output_type": "stream",
     "text": [
      "files\\cwe_output\\cwec_v4.9.xml\n"
     ]
    }
   ],
   "source": [
    "with zipfile.ZipFile(CWE_ZIP_FILEPATH, \"r\") as zip_ref:\n",
    "    extracted_file_names = zip_ref.namelist()\n",
    "    zip_ref.extractall(CWE_OUTPUT_DIRPATH)\n",
    "\n",
    "# tylko jedne plik w zipie\n",
    "extracted_file = extracted_file_names[0]\n",
    "xml_filepath = os.path.join(CWE_OUTPUT_DIRPATH, extracted_file)\n",
    "print(xml_filepath)"
   ]
  },
  {
   "cell_type": "markdown",
   "id": "953c4d81-ecf2-4c3a-a366-fcea39ce742b",
   "metadata": {},
   "source": [
    "### 1.3 zamiana xml na jsona"
   ]
  },
  {
   "cell_type": "code",
   "execution_count": 5,
   "id": "7c8b0082-0114-40c0-9bc9-188d189241b7",
   "metadata": {},
   "outputs": [],
   "source": [
    "xml_data = open(xml_filepath, \"r\", encoding=\"utf-8\").read()\n",
    "parsed_data = xmltodict.parse(xml_data)\n",
    "xml_dict =  dict(parsed_data)"
   ]
  },
  {
   "cell_type": "markdown",
   "id": "f6ba42de-c0dc-41e7-89bd-a15f8a92cf15",
   "metadata": {},
   "source": [
    "### 1.4 zapisywanie jsona"
   ]
  },
  {
   "cell_type": "code",
   "execution_count": 6,
   "id": "0827967d-1316-4c08-8dd7-c4ebc733cc15",
   "metadata": {},
   "outputs": [],
   "source": [
    "with open(CWE_DICT_RAW_FILEPATH, \"w\", encoding=\"utf-8\") as f:\n",
    "    json.dump(xml_dict, f, indent=4)"
   ]
  },
  {
   "cell_type": "markdown",
   "id": "8f3b76f7-5a2e-4e17-877e-e70006deca5b",
   "metadata": {},
   "source": [
    "### 1.5 Usuwanie zipa"
   ]
  },
  {
   "cell_type": "code",
   "execution_count": 7,
   "id": "a301edf3-7f5b-4906-a9e9-8e892d30948b",
   "metadata": {},
   "outputs": [],
   "source": [
    "os.remove(CWE_ZIP_FILEPATH)"
   ]
  },
  {
   "cell_type": "markdown",
   "id": "29d4f7e9-6060-4a8c-890f-b24b39f9b4a7",
   "metadata": {},
   "source": [
    "### 1.6 Usuwanie pliku xml"
   ]
  },
  {
   "cell_type": "code",
   "execution_count": 8,
   "id": "89d47994-add7-4b3e-b60e-6ecba69badf8",
   "metadata": {},
   "outputs": [],
   "source": [
    "# tu nie może być stała, bo to z pliku zipa nazwa pliku\n",
    "os.remove(xml_filepath)"
   ]
  },
  {
   "cell_type": "markdown",
   "id": "ac1fcc2d-5308-4387-9adc-7cbee3020f9e",
   "metadata": {},
   "source": [
    "## 2. Parsowanie danych"
   ]
  },
  {
   "cell_type": "code",
   "execution_count": 9,
   "id": "6bd50d8f-8e02-4af6-857b-5af106c5304a",
   "metadata": {},
   "outputs": [
    {
     "data": {
      "text/plain": [
       "'files\\\\cwe_output\\\\cwe_parsed.json'"
      ]
     },
     "execution_count": 9,
     "metadata": {},
     "output_type": "execute_result"
    }
   ],
   "source": [
    "CWE_PARSED_JSON_FILENAME = \"cwe_parsed.json\"\n",
    "CWE_PARSED_JSON_FILEPATH = os.path.join(CWE_OUTPUT_DIRPATH, CWE_PARSED_JSON_FILENAME)\n",
    "CWE_PARSED_JSON_FILEPATH"
   ]
  },
  {
   "cell_type": "markdown",
   "id": "acfe7d55-1b77-4e51-ae72-006a1cf9b24d",
   "metadata": {},
   "source": [
    "### 2.1  wczytywanie pliku json "
   ]
  },
  {
   "cell_type": "code",
   "execution_count": 10,
   "id": "3671da96-9431-4342-935f-829912ee30b5",
   "metadata": {},
   "outputs": [],
   "source": [
    "with open(CWE_DICT_RAW_FILEPATH, 'r', encoding=\"utf-8\") as f:\n",
    "    raw_data = json.loads(f.read())"
   ]
  },
  {
   "cell_type": "markdown",
   "id": "4c30633f-7e24-4abd-a6cd-87cce91f416a",
   "metadata": {},
   "source": [
    "### 2.2 Parsowanie danych "
   ]
  },
  {
   "cell_type": "code",
   "execution_count": 11,
   "id": "2846238b-bc12-442d-ab5c-5feaef617acb",
   "metadata": {},
   "outputs": [],
   "source": [
    "parsed_result = []\n",
    "weakness = raw_data.get(\"Weakness_Catalog\").get(\"Weaknesses\").get(\"Weakness\")\n",
    "\n",
    "counter = 1\n",
    "\n",
    "for w in weakness:\n",
    "    try:  # mismash json\n",
    "        extended_description = w[\"Extended_Description\"].get(\"xhtml:p\", [\"\"])\n",
    "        extended_description = (\n",
    "            extended_description[0]\n",
    "            if isinstance(extended_description, list)\n",
    "            else extended_description\n",
    "        )\n",
    "        extended_description = extended_description.replace(\"\\n\\t\\t\\t\\t\\t\", \" \")\n",
    "    \n",
    "    \n",
    "    except AttributeError:\n",
    "        extended_description = w[\"Extended_Description\"]\n",
    "        extended_description = extended_description.replace(\"\\n\\t\\t\\t\\t\\t\", \" \")\n",
    "\n",
    "    except KeyError:\n",
    "        extended_description = (\n",
    "            None  # some CWEs don't have Extended_Description at all\n",
    "        )\n",
    "\n",
    "        \n",
    "    cwe_code = f'CWE-{w[\"@ID\"]}' if w[\"@ID\"].isnumeric() else w[\"@ID\"]\n",
    "    description = w[\"Description\"].replace(\"\\n\\t\\t\\t\\t\\t\", \" \")\n",
    "\n",
    "    parsed_result.append(\n",
    "        {\n",
    "            \"artificialId\": counter,  # needed for dummy data in JS\n",
    "            \"id\": cwe_code,\n",
    "            \"name\": w[\"@Name\"],\n",
    "            \"abstraction\": w[\"@Abstraction\"],\n",
    "            \"structure\": w[\"@Structure\"],\n",
    "            \"status\": w[\"@Status\"],\n",
    "            \"description\": description,\n",
    "            \"extendedDescription\": extended_description,\n",
    "        }\n",
    "    )\n",
    "    counter += 1"
   ]
  },
  {
   "cell_type": "markdown",
   "id": "43441d83-74f7-477f-9fe0-b76cff33af44",
   "metadata": {},
   "source": [
    "### 2.2 zapisu sparsowanego pliku json"
   ]
  },
  {
   "cell_type": "code",
   "execution_count": 12,
   "id": "5b50a2dc-e19f-4635-8ca7-0ed6452422a7",
   "metadata": {},
   "outputs": [],
   "source": [
    "with open(CWE_PARSED_JSON_FILEPATH, \"w\", encoding=\"utf-8\") as f:\n",
    "    json.dump(parsed_result, f, indent=4)"
   ]
  },
  {
   "cell_type": "markdown",
   "id": "4b685b7f-d272-4ca8-97d3-43565222dfd7",
   "metadata": {},
   "source": [
    "### 2.3 Usuwanie tego surowego jsona"
   ]
  },
  {
   "cell_type": "code",
   "execution_count": 15,
   "id": "cf7c1f66-b4b1-482e-9af4-770aaabae7ab",
   "metadata": {},
   "outputs": [
    {
     "ename": "FileNotFoundError",
     "evalue": "[WinError 2] The system cannot find the file specified: 'files\\\\cwe_output\\\\cwe_raw.json'",
     "output_type": "error",
     "traceback": [
      "\u001b[1;31m---------------------------------------------------------------------------\u001b[0m",
      "\u001b[1;31mFileNotFoundError\u001b[0m                         Traceback (most recent call last)",
      "Input \u001b[1;32mIn [15]\u001b[0m, in \u001b[0;36m<cell line: 1>\u001b[1;34m()\u001b[0m\n\u001b[1;32m----> 1\u001b[0m \u001b[43mos\u001b[49m\u001b[38;5;241;43m.\u001b[39;49m\u001b[43mremove\u001b[49m\u001b[43m(\u001b[49m\u001b[43mCWE_DICT_RAW_FILEPATH\u001b[49m\u001b[43m)\u001b[49m\n",
      "\u001b[1;31mFileNotFoundError\u001b[0m: [WinError 2] The system cannot find the file specified: 'files\\\\cwe_output\\\\cwe_raw.json'"
     ]
    }
   ],
   "source": [
    "os.remove(CWE_DICT_RAW_FILEPATH)"
   ]
  },
  {
   "cell_type": "code",
   "execution_count": 16,
   "id": "e605d95f-376f-4c63-a1f9-485d0a1f6eb8",
   "metadata": {},
   "outputs": [
    {
     "data": {
      "text/plain": [
       "'files\\\\cwe_output\\\\cwe_parsed.json'"
      ]
     },
     "execution_count": 16,
     "metadata": {},
     "output_type": "execute_result"
    }
   ],
   "source": [
    "# ścieżka do sparsowanego pliku\n",
    "CWE_PARSED_JSON_FILEPATH"
   ]
  },
  {
   "cell_type": "code",
   "execution_count": null,
   "id": "697e9c9e-2e73-4cdf-8cc7-0e3f28a4c429",
   "metadata": {},
   "outputs": [],
   "source": []
  }
 ],
 "metadata": {
  "kernelspec": {
   "display_name": "Python 3 (ipykernel)",
   "language": "python",
   "name": "python3"
  },
  "language_info": {
   "codemirror_mode": {
    "name": "ipython",
    "version": 3
   },
   "file_extension": ".py",
   "mimetype": "text/x-python",
   "name": "python",
   "nbconvert_exporter": "python",
   "pygments_lexer": "ipython3",
   "version": "3.10.6"
  }
 },
 "nbformat": 4,
 "nbformat_minor": 5
}
