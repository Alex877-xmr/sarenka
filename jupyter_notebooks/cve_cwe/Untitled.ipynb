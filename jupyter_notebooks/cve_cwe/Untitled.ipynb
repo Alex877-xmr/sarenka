{
 "cells": [
  {
   "cell_type": "markdown",
   "id": "79d76bf2-6feb-4ad1-880f-2aaed766883e",
   "metadata": {},
   "source": [
    "# CVE"
   ]
  },
  {
   "cell_type": "markdown",
   "id": "8fd70453-5c4c-4f0f-9630-07560fcdebe5",
   "metadata": {},
   "source": [
    "## 1. Pobieranie danych"
   ]
  },
  {
   "cell_type": "code",
   "execution_count": 2,
   "id": "1c380727-e57a-4452-ab12-e71881761b08",
   "metadata": {},
   "outputs": [],
   "source": [
    "import requests\n",
    "import os\n",
    "import zipfile\n",
    "from bs4 import BeautifulSoup"
   ]
  },
  {
   "cell_type": "markdown",
   "id": "179a4f2c-2af0-4318-adc4-1758d78146e7",
   "metadata": {},
   "source": [
    "### 1.1 Ustawianie zmiennmych"
   ]
  },
  {
   "cell_type": "code",
   "execution_count": 8,
   "id": "97204891-9a30-4184-a786-d268fb1f91c5",
   "metadata": {},
   "outputs": [
    {
     "data": {
      "text/plain": [
       "'files\\\\cve_output'"
      ]
     },
     "execution_count": 8,
     "metadata": {},
     "output_type": "execute_result"
    }
   ],
   "source": [
    "CVE_SOURCE_URL = \"https://nvd.nist.gov/vuln/data-feeds#JSON_FEED\"\n",
    "CVE_BASE_URL = \"https://nvd.nist.gov/\"\n",
    "FILE_DIR_NAME = \"files\"\n",
    "\n",
    "\n",
    "CVE_OUTPUT_DIR_NAME = \"cve_output\"\n",
    "CVE_OUTPUT_DIR_PATH = os.path.join(FILE_DIR_NAME, CVE_OUTPUT_DIR_NAME)\n",
    "CVE_OUTPUT_DIR_PATH"
   ]
  },
  {
   "cell_type": "markdown",
   "id": "9f1fe0d9-aad2-4832-841f-5c7b80c290a3",
   "metadata": {},
   "source": [
    "### 1.2 Scrapowanie listy linków do plików zip z podatnościami"
   ]
  },
  {
   "cell_type": "code",
   "execution_count": 13,
   "id": "5310344e-6214-4f08-a112-aada143917d1",
   "metadata": {},
   "outputs": [
    {
     "name": "stdout",
     "output_type": "stream",
     "text": [
      "['https://nvd.nist.gov//feeds/json/cve/1.1/nvdcve-1.1-modified.json.zip', 'https://nvd.nist.gov//feeds/json/cve/1.1/nvdcve-1.1-recent.json.zip', 'https://nvd.nist.gov//feeds/json/cve/1.1/nvdcve-1.1-2022.json.zip', 'https://nvd.nist.gov//feeds/json/cve/1.1/nvdcve-1.1-2021.json.zip', 'https://nvd.nist.gov//feeds/json/cve/1.1/nvdcve-1.1-2020.json.zip', 'https://nvd.nist.gov//feeds/json/cve/1.1/nvdcve-1.1-2019.json.zip', 'https://nvd.nist.gov//feeds/json/cve/1.1/nvdcve-1.1-2018.json.zip', 'https://nvd.nist.gov//feeds/json/cve/1.1/nvdcve-1.1-2017.json.zip', 'https://nvd.nist.gov//feeds/json/cve/1.1/nvdcve-1.1-2016.json.zip', 'https://nvd.nist.gov//feeds/json/cve/1.1/nvdcve-1.1-2015.json.zip', 'https://nvd.nist.gov//feeds/json/cve/1.1/nvdcve-1.1-2014.json.zip', 'https://nvd.nist.gov//feeds/json/cve/1.1/nvdcve-1.1-2013.json.zip', 'https://nvd.nist.gov//feeds/json/cve/1.1/nvdcve-1.1-2012.json.zip', 'https://nvd.nist.gov//feeds/json/cve/1.1/nvdcve-1.1-2011.json.zip', 'https://nvd.nist.gov//feeds/json/cve/1.1/nvdcve-1.1-2010.json.zip', 'https://nvd.nist.gov//feeds/json/cve/1.1/nvdcve-1.1-2009.json.zip', 'https://nvd.nist.gov//feeds/json/cve/1.1/nvdcve-1.1-2008.json.zip', 'https://nvd.nist.gov//feeds/json/cve/1.1/nvdcve-1.1-2007.json.zip', 'https://nvd.nist.gov//feeds/json/cve/1.1/nvdcve-1.1-2006.json.zip', 'https://nvd.nist.gov//feeds/json/cve/1.1/nvdcve-1.1-2005.json.zip', 'https://nvd.nist.gov//feeds/json/cve/1.1/nvdcve-1.1-2004.json.zip', 'https://nvd.nist.gov//feeds/json/cve/1.1/nvdcve-1.1-2003.json.zip', 'https://nvd.nist.gov//feeds/json/cve/1.1/nvdcve-1.1-2002.json.zip']\n"
     ]
    }
   ],
   "source": [
    "source = requests.get(CVE_SOURCE_URL).text\n",
    "soup = BeautifulSoup(source, \"html.parser\")\n",
    "\n",
    "# tylko jedna tabela w sordku diva o id \"divJSONFeeds\"\n",
    "soup = soup.find(\"div\", {\"id\": \"divJSONFeeds\"})\n",
    "soup = soup.find(\"table\")\n",
    "\n",
    "cve_zip_url_list = []\n",
    "for a in soup.find_all(\"a\", href=True):\n",
    "    href = a[\"href\"]\n",
    "    if href.split(\".\")[-1] == \"zip\":\n",
    "        cve_zip_url_list.append(f\"{CVE_BASE_URL}{href}\")\n",
    "        \n",
    "print(cve_zip_url_list)"
   ]
  },
  {
   "cell_type": "markdown",
   "id": "021ee56f-0d73-4a6b-82d5-c0d3bb149c36",
   "metadata": {},
   "source": [
    "### 1.3 Pobieranie plików zip z linków z wcześniej poskrapowanej listy"
   ]
  },
  {
   "cell_type": "code",
   "execution_count": 15,
   "id": "5e006b29-2f13-4346-b0ed-83c9e54ae151",
   "metadata": {},
   "outputs": [
    {
     "data": {
      "text/plain": [
       "['files\\\\cve_output\\\\nvdcve-1.1-modified.json',\n",
       " 'files\\\\cve_output\\\\nvdcve-1.1-recent.json',\n",
       " 'files\\\\cve_output\\\\nvdcve-1.1-2022.json',\n",
       " 'files\\\\cve_output\\\\nvdcve-1.1-2021.json',\n",
       " 'files\\\\cve_output\\\\nvdcve-1.1-2020.json',\n",
       " 'files\\\\cve_output\\\\nvdcve-1.1-2019.json',\n",
       " 'files\\\\cve_output\\\\nvdcve-1.1-2018.json',\n",
       " 'files\\\\cve_output\\\\nvdcve-1.1-2017.json',\n",
       " 'files\\\\cve_output\\\\nvdcve-1.1-2016.json',\n",
       " 'files\\\\cve_output\\\\nvdcve-1.1-2015.json',\n",
       " 'files\\\\cve_output\\\\nvdcve-1.1-2014.json',\n",
       " 'files\\\\cve_output\\\\nvdcve-1.1-2013.json',\n",
       " 'files\\\\cve_output\\\\nvdcve-1.1-2012.json',\n",
       " 'files\\\\cve_output\\\\nvdcve-1.1-2011.json',\n",
       " 'files\\\\cve_output\\\\nvdcve-1.1-2010.json',\n",
       " 'files\\\\cve_output\\\\nvdcve-1.1-2009.json',\n",
       " 'files\\\\cve_output\\\\nvdcve-1.1-2008.json',\n",
       " 'files\\\\cve_output\\\\nvdcve-1.1-2007.json',\n",
       " 'files\\\\cve_output\\\\nvdcve-1.1-2006.json',\n",
       " 'files\\\\cve_output\\\\nvdcve-1.1-2005.json',\n",
       " 'files\\\\cve_output\\\\nvdcve-1.1-2004.json',\n",
       " 'files\\\\cve_output\\\\nvdcve-1.1-2003.json',\n",
       " 'files\\\\cve_output\\\\nvdcve-1.1-2002.json']"
      ]
     },
     "execution_count": 15,
     "metadata": {},
     "output_type": "execute_result"
    }
   ],
   "source": [
    "cve_filename_list = []\n",
    "for link in cve_zip_url_list:\n",
    "    zip_filename = link.split(\"/\")[-1]\n",
    "    zip_filepath = os.path.join(CVE_OUTPUT_DIR_PATH, zip_filename)\n",
    "    \n",
    "    data = requests.get(link)\n",
    "    \n",
    "    # zapisywanie zipa do pliku\n",
    "    with open(zip_filepath, \"wb\") as f:\n",
    "        f.write(data.content)\n",
    "        \n",
    "    # rozpakowwywanie zipa\n",
    "    with zipfile.ZipFile(zip_filepath, \"r\") as zip_ref:\n",
    "        # tylko jeden plik\n",
    "        extracted_file_name = zip_ref.namelist()[0]\n",
    "        zip_ref.extractall(CVE_OUTPUT_DIR_PATH)\n",
    "    \n",
    "    # usuwanie zipa\n",
    "    os.remove(zip_filepath)\n",
    "    \n",
    "    # dodanie ścieżki rozpakowanego pliku do listy\n",
    "    extracted_filepath = os.path.join(CVE_OUTPUT_DIR_PATH, extracted_file_name)\n",
    "    cve_filename_list.append(extracted_filepath)\n",
    "    \n",
    "cve_filename_list"
   ]
  },
  {
   "cell_type": "code",
   "execution_count": null,
   "id": "c18faca1-b016-418b-8e87-6cba1db47a9a",
   "metadata": {},
   "outputs": [],
   "source": []
  }
 ],
 "metadata": {
  "kernelspec": {
   "display_name": "Python 3 (ipykernel)",
   "language": "python",
   "name": "python3"
  },
  "language_info": {
   "codemirror_mode": {
    "name": "ipython",
    "version": 3
   },
   "file_extension": ".py",
   "mimetype": "text/x-python",
   "name": "python",
   "nbconvert_exporter": "python",
   "pygments_lexer": "ipython3",
   "version": "3.10.6"
  }
 },
 "nbformat": 4,
 "nbformat_minor": 5
}
