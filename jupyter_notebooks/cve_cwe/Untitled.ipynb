{
 "cells": [
  {
   "cell_type": "markdown",
   "id": "5ecc03d5-6360-403a-bbb6-22341f400dff",
   "metadata": {},
   "source": [
    "# CWE"
   ]
  },
  {
   "cell_type": "code",
   "execution_count": null,
   "id": "0ed6396c-fc19-4ca1-959e-797b0b2e6db1",
   "metadata": {},
   "outputs": [],
   "source": [
    "conda install xmltodict"
   ]
  },
  {
   "cell_type": "code",
   "execution_count": 1,
   "id": "0b5c9b2a-06df-4286-a37d-fdc528c19950",
   "metadata": {},
   "outputs": [],
   "source": [
    "import json\n",
    "import os\n",
    "import requests\n",
    "import xmltodict\n",
    "import zipfile"
   ]
  },
  {
   "cell_type": "markdown",
   "id": "340faf27-a851-4870-94ac-9826aed5cbf5",
   "metadata": {},
   "source": [
    "## 1. Pobieranie danych"
   ]
  },
  {
   "cell_type": "code",
   "execution_count": 44,
   "id": "7eabc2dd-967d-443e-ac41-6a83cbf1b6ac",
   "metadata": {},
   "outputs": [],
   "source": [
    "CWE_FILE_URL = \"https://cwe.mitre.org/data/xml/cwec_latest.xml.zip\"\n",
    "CWE_OUTPUT_DIR = \"cwe_output\"\n",
    "FILE_DIR_NAME = \"files\"\n",
    "\n",
    "CWE_OUTPUT_DIRPATH = os.path.join('files', CWE_OUTPUT_DIR)\n",
    "\n",
    "# stałe dotyczące zipa\n",
    "cwe_zip_output_filename = f'{CWE_FILE_URL.split(\"/\")[-1].split(\".\")[0]}.zip'\n",
    "CWE_ZIP_FILEPATH = os.path.join('files', CWE_OUTPUT_DIR, cwe_zip_output_filename)\n",
    "\n",
    "# stałe dotyczące xml\n",
    "XML_DICT_FILENAME = 'cwe.json'\n",
    "XML_DICT_FILEPATH = os.path.join(CWE_OUTPUT_DIRPATH, XML_DICT_FILENAME)"
   ]
  },
  {
   "cell_type": "markdown",
   "id": "dfe9ed17-738a-4017-8e8f-67c6d3e52550",
   "metadata": {},
   "source": [
    "### 1.1 pobieranie i zapisywanie zipa"
   ]
  },
  {
   "cell_type": "code",
   "execution_count": 45,
   "id": "525097d1-40f3-4732-88df-22a072766748",
   "metadata": {},
   "outputs": [
    {
     "name": "stdout",
     "output_type": "stream",
     "text": [
      "files\\cwe_output\\cwec_latest.zip\n"
     ]
    }
   ],
   "source": [
    "data = requests.get(CWE_FILE_URL)\n",
    "with open(CWE_ZIP_FILEPATH, \"wb\") as f:\n",
    "    f.write(data.content)\n",
    "    \n",
    "print(CWE_ZIP_FILEPATH)"
   ]
  },
  {
   "cell_type": "markdown",
   "id": "86a8d006-c46f-4e8d-9532-1b0dcd1c7fff",
   "metadata": {},
   "source": [
    "### 1.2 rozpakowywanie zipa"
   ]
  },
  {
   "cell_type": "code",
   "execution_count": 46,
   "id": "226cfd4f-d47e-45f9-888f-8961d6b3c42b",
   "metadata": {},
   "outputs": [
    {
     "name": "stdout",
     "output_type": "stream",
     "text": [
      "files\\cwe_output\\cwec_v4.9.xml\n"
     ]
    }
   ],
   "source": [
    "with zipfile.ZipFile(CWE_ZIP_FILEPATH, \"r\") as zip_ref:\n",
    "    extracted_file_names = zip_ref.namelist()\n",
    "    zip_ref.extractall(CWE_OUTPUT_DIRPATH)\n",
    "\n",
    "# tylko jedne plik w zipie\n",
    "extracted_file = extracted_file_names[0]\n",
    "xml_filepath = os.path.join(CWE_OUTPUT_DIRPATH, extracted_file)\n",
    "print(xml_filepath)"
   ]
  },
  {
   "cell_type": "markdown",
   "id": "953c4d81-ecf2-4c3a-a366-fcea39ce742b",
   "metadata": {},
   "source": [
    "### 1.3 zamiana xml na jsona"
   ]
  },
  {
   "cell_type": "code",
   "execution_count": 47,
   "id": "7c8b0082-0114-40c0-9bc9-188d189241b7",
   "metadata": {},
   "outputs": [],
   "source": [
    "xml_data = open(xml_filepath, \"r\", encoding=\"utf-8\").read()\n",
    "parsed_data = xmltodict.parse(xml_data)\n",
    "xml_dict =  dict(parsed_data)"
   ]
  },
  {
   "cell_type": "markdown",
   "id": "f6ba42de-c0dc-41e7-89bd-a15f8a92cf15",
   "metadata": {},
   "source": [
    "### 1.4 zapisywanie jsona"
   ]
  },
  {
   "cell_type": "code",
   "execution_count": 48,
   "id": "0827967d-1316-4c08-8dd7-c4ebc733cc15",
   "metadata": {},
   "outputs": [],
   "source": [
    "with open(XML_DICT_FILEPATH, \"w\", encoding=\"utf-8\") as f:\n",
    "    json.dump(xml_dict, f, indent=4)"
   ]
  },
  {
   "cell_type": "markdown",
   "id": "8f3b76f7-5a2e-4e17-877e-e70006deca5b",
   "metadata": {},
   "source": [
    "### 1.5 Usuwanie zipa"
   ]
  },
  {
   "cell_type": "code",
   "execution_count": 49,
   "id": "a301edf3-7f5b-4906-a9e9-8e892d30948b",
   "metadata": {},
   "outputs": [],
   "source": [
    "os.remove(CWE_ZIP_FILEPATH)"
   ]
  },
  {
   "cell_type": "markdown",
   "id": "29d4f7e9-6060-4a8c-890f-b24b39f9b4a7",
   "metadata": {},
   "source": [
    "### 1.6 Usuwanie pliku xml"
   ]
  },
  {
   "cell_type": "code",
   "execution_count": 31,
   "id": "89d47994-add7-4b3e-b60e-6ecba69badf8",
   "metadata": {},
   "outputs": [],
   "source": [
    "# tu nie może być stała, bo to z pliku zipa nazwa pliku\n",
    "os.remove(xml_filepath)"
   ]
  },
  {
   "cell_type": "markdown",
   "id": "ac1fcc2d-5308-4387-9adc-7cbee3020f9e",
   "metadata": {},
   "source": [
    "# 2. Parsowanie danych"
   ]
  },
  {
   "cell_type": "code",
   "execution_count": null,
   "id": "4852556b-f61a-4938-af37-f2f4bbecf671",
   "metadata": {},
   "outputs": [],
   "source": []
  }
 ],
 "metadata": {
  "kernelspec": {
   "display_name": "Python 3 (ipykernel)",
   "language": "python",
   "name": "python3"
  },
  "language_info": {
   "codemirror_mode": {
    "name": "ipython",
    "version": 3
   },
   "file_extension": ".py",
   "mimetype": "text/x-python",
   "name": "python",
   "nbconvert_exporter": "python",
   "pygments_lexer": "ipython3",
   "version": "3.10.6"
  }
 },
 "nbformat": 4,
 "nbformat_minor": 5
}
